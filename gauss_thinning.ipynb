{
 "cells": [
  {
   "cell_type": "markdown",
   "id": "96a4b29b-4222-455c-91cc-7d78c0166f70",
   "metadata": {},
   "source": [
    "# Gauss Thinning"
   ]
  },
  {
   "cell_type": "code",
   "execution_count": 10,
   "id": "0ffcaae1",
   "metadata": {},
   "outputs": [],
   "source": [
    "import igl\n",
    "import meshplot as mp\n",
    "import numpy as np"
   ]
  },
  {
   "cell_type": "markdown",
   "id": "477bad2f",
   "metadata": {
    "tags": []
   },
   "source": [
    "## Load and Plot Data"
   ]
  },
  {
   "cell_type": "code",
   "execution_count": 27,
   "id": "a53708bb",
   "metadata": {},
   "outputs": [],
   "source": [
    "# v, f = igl.read_triangle_mesh(\"examples/einstein/input.off\")\n",
    "# v, f = igl.read_triangle_mesh(\"examples/bumpy/input.off\")\n",
    "# v, f = igl.read_triangle_mesh(\"examples/bunny/input.off\")\n",
    "v, f = igl.read_triangle_mesh(\"examples/face/input.off\")"
   ]
  },
  {
   "cell_type": "markdown",
   "id": "1037cb71",
   "metadata": {},
   "source": [
    "# Visualizing Surfaces and Pointclouds"
   ]
  },
  {
   "cell_type": "code",
   "execution_count": 28,
   "id": "46bfc13f",
   "metadata": {},
   "outputs": [
    {
     "data": {
      "application/vnd.jupyter.widget-view+json": {
       "model_id": "8d1f64d4601c4607ba4d97e75dbffbb8",
       "version_major": 2,
       "version_minor": 0
      },
      "text/plain": [
       "Renderer(camera=PerspectiveCamera(children=(DirectionalLight(color='white', intensity=0.6, position=(-0.000430…"
      ]
     },
     "metadata": {},
     "output_type": "display_data"
    },
    {
     "data": {
      "application/vnd.jupyter.widget-view+json": {
       "model_id": "f12723952bc14efa9b12d6af5c297ca9",
       "version_major": 2,
       "version_minor": 0
      },
      "text/plain": [
       "Renderer(camera=PerspectiveCamera(children=(DirectionalLight(color='white', intensity=0.6, position=(-0.000430…"
      ]
     },
     "metadata": {},
     "output_type": "display_data"
    },
    {
     "data": {
      "text/plain": [
       "<meshplot.Viewer.Viewer at 0x11a8ce3a0>"
      ]
     },
     "execution_count": 28,
     "metadata": {},
     "output_type": "execute_result"
    }
   ],
   "source": [
    "mp.plot(v, f, c=v[:, 0])\n",
    "mp.plot(v, c=v[:, 0],shading={\"point_size\":0.3})"
   ]
  },
  {
   "cell_type": "markdown",
   "id": "665082e3",
   "metadata": {
    "tags": []
   },
   "source": [
    "## Gauss map of the input mesh"
   ]
  },
  {
   "cell_type": "code",
   "execution_count": 29,
   "id": "15dab1e7",
   "metadata": {},
   "outputs": [
    {
     "data": {
      "application/vnd.jupyter.widget-view+json": {
       "model_id": "7e0271256a874c1b861243d96612eac0",
       "version_major": 2,
       "version_minor": 0
      },
      "text/plain": [
       "Renderer(camera=PerspectiveCamera(children=(DirectionalLight(color='white', intensity=0.6, position=(-0.000430…"
      ]
     },
     "metadata": {},
     "output_type": "display_data"
    },
    {
     "data": {
      "text/plain": [
       "<meshplot.Viewer.Viewer at 0x11a8b0370>"
      ]
     },
     "execution_count": 29,
     "metadata": {},
     "output_type": "execute_result"
    }
   ],
   "source": [
    "# Calculating per face normals\n",
    "nf = igl.per_face_normals(v, f, np.array([0.0, 0.0, 0.0]))\n",
    "# Plotting face normals\n",
    "mp.plot(v,f,c=nf)"
   ]
  },
  {
   "cell_type": "code",
   "execution_count": 30,
   "id": "94f90c7a",
   "metadata": {},
   "outputs": [
    {
     "data": {
      "application/vnd.jupyter.widget-view+json": {
       "model_id": "b989400d63884010b69bc52a3f851083",
       "version_major": 2,
       "version_minor": 0
      },
      "text/plain": [
       "Renderer(camera=PerspectiveCamera(children=(DirectionalLight(color='white', intensity=0.6, position=(-0.000430…"
      ]
     },
     "metadata": {},
     "output_type": "display_data"
    },
    {
     "data": {
      "text/plain": [
       "1"
      ]
     },
     "execution_count": 30,
     "metadata": {},
     "output_type": "execute_result"
    }
   ],
   "source": [
    "# Calculating per vertex normals\n",
    "nv = igl.per_vertex_normals(v, f)\n",
    "avg = igl.avg_edge_length(v, f)\n",
    "# Plotting vertex normals as lines\n",
    "pv=mp.plot(v,f, c=nv)\n",
    "pv.add_lines(v, v + nv*avg)"
   ]
  },
  {
   "cell_type": "code",
   "execution_count": 31,
   "id": "9201ff09",
   "metadata": {},
   "outputs": [
    {
     "data": {
      "application/vnd.jupyter.widget-view+json": {
       "model_id": "3facef1183234837940a1a5c81639c14",
       "version_major": 2,
       "version_minor": 0
      },
      "text/plain": [
       "Renderer(camera=PerspectiveCamera(children=(DirectionalLight(color='white', intensity=0.6, position=(-0.000430…"
      ]
     },
     "metadata": {},
     "output_type": "display_data"
    },
    {
     "data": {
      "text/plain": [
       "2"
      ]
     },
     "execution_count": 31,
     "metadata": {},
     "output_type": "execute_result"
    }
   ],
   "source": [
    "# Calculating the principal curvature, mean curvature and gassian curvature.\n",
    "v1, v2, k1, k2 = igl.principal_curvature(v, f)\n",
    "mean_curv = 0.5 * (k1 + k2)\n",
    "gaussian_curv=k1*k2\n",
    "avg = igl.avg_edge_length(v, f)\n",
    "\n",
    "# Plotting gaussian curvature + directions\n",
    "pgc=mp.plot(v, f, c=gaussian_curv)\n",
    "pgc.add_lines(v + v1 * avg/3, v - v1 * avg/3, shading={\"line_color\": \"red\"})\n",
    "pgc.add_lines(v + v2 * avg/3, v - v2 * avg/3, shading={\"line_color\": \"green\"})\n",
    "\n"
   ]
  },
  {
   "cell_type": "code",
   "execution_count": 33,
   "id": "d5bc44d1",
   "metadata": {},
   "outputs": [
    {
     "name": "stderr",
     "output_type": "stream",
     "text": [
      "Warning: readOBJ() ignored non-comment line 4:\n",
      "  o Sphere_Sphere.001\n"
     ]
    },
    {
     "data": {
      "application/vnd.jupyter.widget-view+json": {
       "model_id": "cf387d12c011419f89b62c3cd9cf55b6",
       "version_major": 2,
       "version_minor": 0
      },
      "text/plain": [
       "Renderer(camera=PerspectiveCamera(children=(DirectionalLight(color='white', intensity=0.6, position=(4.7683715…"
      ]
     },
     "metadata": {},
     "output_type": "display_data"
    },
    {
     "data": {
      "text/plain": [
       "2"
      ]
     },
     "execution_count": 33,
     "metadata": {},
     "output_type": "execute_result"
    }
   ],
   "source": [
    "# Plotting the gauss map\n",
    "vs, fs = igl.read_triangle_mesh(\"examples/unit_sphere.obj\")\n",
    "vs=vs*0.95\n",
    "pgm=mp.plot(vs, fs,shading={\"flat\":False})\n",
    "pgm.add_points(nf,shading={\"point_size\":0.2})\n",
    "ev, fe, ef = igl.edge_topology(v, f)\n",
    "ef = ef[np.all(ef != -1, axis=1)]\n",
    "pgm.add_lines(nf[ef[:,0]],nf[ef[:,1]],shading={\"line_color\": \"red\"})"
   ]
  },
  {
   "cell_type": "markdown",
   "id": "47964112",
   "metadata": {},
   "source": [
    "## Calculate the developability on the surface"
   ]
  },
  {
   "cell_type": "code",
   "execution_count": 34,
   "id": "be60c9d1",
   "metadata": {},
   "outputs": [],
   "source": [
    "vf,ni=igl.vertex_triangle_adjacency(f,v.shape[0])"
   ]
  },
  {
   "cell_type": "code",
   "execution_count": 35,
   "id": "a1de5bff",
   "metadata": {},
   "outputs": [
    {
     "name": "stderr",
     "output_type": "stream",
     "text": [
      "/var/folders/vw/yhrm02392q3g7sszwfd84xb40000gn/T/ipykernel_17877/2672643239.py:4: ComplexWarning: Casting complex values to real discards the imaginary part\n",
      "  developability[i]=min(np.linalg.eigvals(np.dot(dmat.T,dmat)))\n"
     ]
    },
    {
     "data": {
      "application/vnd.jupyter.widget-view+json": {
       "model_id": "477cdb14420e4e94801ce9370a0fc2eb",
       "version_major": 2,
       "version_minor": 0
      },
      "text/plain": [
       "Renderer(camera=PerspectiveCamera(children=(DirectionalLight(color='white', intensity=0.6, position=(-0.000430…"
      ]
     },
     "metadata": {},
     "output_type": "display_data"
    }
   ],
   "source": [
    "developability=np.zeros(v.shape[0])\n",
    "for i in range(0,v.shape[0]):\n",
    "    dmat=nf[vf[ni[i]:ni[i+1]]]\n",
    "    developability[i]=min(np.linalg.eigvals(np.dot(dmat.T,dmat)))\n",
    "pd=mp.plot(v,f, c=developability,shading={\"point_size\":0.3})"
   ]
  },
  {
   "cell_type": "code",
   "execution_count": 36,
   "id": "3d3c1690",
   "metadata": {},
   "outputs": [
    {
     "data": {
      "text/plain": [
       "0.3336671468194018"
      ]
     },
     "execution_count": 36,
     "metadata": {},
     "output_type": "execute_result"
    }
   ],
   "source": [
    "max(developability)"
   ]
  },
  {
   "cell_type": "code",
   "execution_count": 15,
   "id": "2f37c954",
   "metadata": {},
   "outputs": [],
   "source": [
    "# # cuts=np.zeros(f.shape[0]*3)\n",
    "# cuts=f*0\n",
    "# cuts[0:20,0]=1\n",
    "# vcut,fcut=igl.cut_mesh(v,f,cuts)\n",
    "# vf,ni=igl.vertex_triangle_adjacency(fcut,vcut.shape[0])\n",
    "# developability=np.zeros(vcut.shape[0])\n",
    "# nf = igl.per_face_normals(vcut, fcut, np.array([0.0, 0.0, 0.0]))\n",
    "# for i in range(0,vcut.shape[0]):\n",
    "#     dmat=nf[vf[ni[i]:ni[i+1]]]\n",
    "#     developability[i]=min(np.linalg.eigvals(np.dot(dmat.T,dmat)))\n",
    "# pd=mp.plot(vcut,fcut, c=developability,shading={\"point_size\":0.3})"
   ]
  },
  {
   "cell_type": "code",
   "execution_count": 16,
   "id": "b6afd5ff",
   "metadata": {},
   "outputs": [
    {
     "ename": "NameError",
     "evalue": "name 'cuts' is not defined",
     "output_type": "error",
     "traceback": [
      "\u001b[0;31m---------------------------------------------------------------------------\u001b[0m",
      "\u001b[0;31mNameError\u001b[0m                                 Traceback (most recent call last)",
      "\u001b[0;32m/var/folders/vw/yhrm02392q3g7sszwfd84xb40000gn/T/ipykernel_16264/2330372587.py\u001b[0m in \u001b[0;36m<module>\u001b[0;34m\u001b[0m\n\u001b[0;32m----> 1\u001b[0;31m \u001b[0mcuts\u001b[0m\u001b[0;34m\u001b[0m\u001b[0;34m\u001b[0m\u001b[0m\n\u001b[0m",
      "\u001b[0;31mNameError\u001b[0m: name 'cuts' is not defined"
     ]
    }
   ],
   "source": [
    "cuts"
   ]
  },
  {
   "cell_type": "code",
   "execution_count": null,
   "id": "e34c991b",
   "metadata": {},
   "outputs": [],
   "source": []
  }
 ],
 "metadata": {
  "kernelspec": {
   "display_name": "dev-surf",
   "language": "python",
   "name": "dev-surf"
  },
  "language_info": {
   "codemirror_mode": {
    "name": "ipython",
    "version": 3
   },
   "file_extension": ".py",
   "mimetype": "text/x-python",
   "name": "python",
   "nbconvert_exporter": "python",
   "pygments_lexer": "ipython3",
   "version": "3.9.7"
  }
 },
 "nbformat": 4,
 "nbformat_minor": 5
}
