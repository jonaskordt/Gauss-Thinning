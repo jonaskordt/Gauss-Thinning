{
 "cells": [
  {
   "cell_type": "markdown",
   "id": "96a4b29b-4222-455c-91cc-7d78c0166f70",
   "metadata": {},
   "source": [
    "# Gauss Thinning\n"
   ]
  },
  {
   "cell_type": "code",
   "execution_count": null,
   "id": "0ffcaae1",
   "metadata": {},
   "outputs": [],
   "source": [
    "import igl\n",
    "import meshplot as mp\n",
    "import numpy as np\n",
    "from numpy import linalg as LA\n",
    "import math\n"
   ]
  },
  {
   "cell_type": "markdown",
   "id": "477bad2f",
   "metadata": {
    "tags": []
   },
   "source": [
    "## Load and Plot Data\n"
   ]
  },
  {
   "cell_type": "code",
   "execution_count": null,
   "id": "a53708bb",
   "metadata": {},
   "outputs": [],
   "source": [
    "# v, f = igl.read_triangle_mesh(\"examples/einstein/input.off\")\n",
    "# v, f = igl.read_triangle_mesh(\"examples/bumpy/input.off\")\n",
    "# v, f = igl.read_triangle_mesh(\"examples/bunny/input.off\")\n",
    "v, f = igl.read_triangle_mesh(\"examples/face/input.off\")\n"
   ]
  },
  {
   "cell_type": "markdown",
   "id": "1037cb71",
   "metadata": {},
   "source": [
    "## Visualizing Surfaces and Pointclouds\n"
   ]
  },
  {
   "cell_type": "code",
   "execution_count": null,
   "id": "46bfc13f",
   "metadata": {},
   "outputs": [],
   "source": [
    "mp.plot(v, f, c=v[:, 0])\n",
    "mp.plot(v, c=v[:, 0], shading={\"point_size\": 0.3})\n"
   ]
  },
  {
   "cell_type": "markdown",
   "id": "665082e3",
   "metadata": {
    "tags": []
   },
   "source": [
    "## Gauss map of the input mesh\n"
   ]
  },
  {
   "cell_type": "code",
   "execution_count": null,
   "id": "15dab1e7",
   "metadata": {},
   "outputs": [],
   "source": [
    "# Calculating per face normals\n",
    "nf = igl.per_face_normals(v, f, np.array([0.0, 0.0, 0.0]))\n",
    "# Plotting face normals\n",
    "mp.plot(v, f, c=nf)\n"
   ]
  },
  {
   "cell_type": "code",
   "execution_count": null,
   "id": "94f90c7a",
   "metadata": {},
   "outputs": [],
   "source": [
    "# Calculating per vertex normals\n",
    "nv = igl.per_vertex_normals(v, f)\n",
    "avg = igl.avg_edge_length(v, f)\n",
    "# Plotting vertex normals as lines\n",
    "pv = mp.plot(v, f, c=nv)\n",
    "pv.add_lines(v, v + nv * avg)\n"
   ]
  },
  {
   "cell_type": "code",
   "execution_count": null,
   "id": "9201ff09",
   "metadata": {},
   "outputs": [],
   "source": [
    "# Calculating the principal curvature, mean curvature and gassian curvature.\n",
    "v1, v2, k1, k2 = igl.principal_curvature(v, f)\n",
    "mean_curv = 0.5 * (k1 + k2)\n",
    "gaussian_curv = k1 * k2\n",
    "avg = igl.avg_edge_length(v, f)\n",
    "\n",
    "# Plotting gaussian curvature + directions\n",
    "pgc = mp.plot(v, f, c=gaussian_curv)\n",
    "pgc.add_lines(v + v1 * avg / 3, v - v1 * avg / 3, shading={\"line_color\": \"red\"})\n",
    "pgc.add_lines(v + v2 * avg / 3, v - v2 * avg / 3, shading={\"line_color\": \"green\"})\n"
   ]
  },
  {
   "cell_type": "code",
   "execution_count": null,
   "id": "d5bc44d1",
   "metadata": {},
   "outputs": [],
   "source": [
    "# Plotting the gauss map\n",
    "vs, fs = igl.read_triangle_mesh(\"examples/unit_sphere.obj\")\n",
    "vs = vs * 0.95\n",
    "pgm = mp.plot(vs, fs, shading={\"flat\": False})\n",
    "pgm.add_points(nf, shading={\"point_size\": 0.2})\n",
    "ev, fe, ef = igl.edge_topology(v, f)\n",
    "ef = ef[np.all(ef != -1, axis=1)]\n",
    "pgm.add_lines(nf[ef[:, 0]], nf[ef[:, 1]], shading={\"line_color\": \"red\"})\n"
   ]
  },
  {
   "cell_type": "markdown",
   "id": "47964112",
   "metadata": {},
   "source": [
    "## Calculate the developability on the surface\n"
   ]
  },
  {
   "cell_type": "code",
   "execution_count": null,
   "id": "be60c9d1",
   "metadata": {},
   "outputs": [],
   "source": [
    "vf, ni = igl.vertex_triangle_adjacency(f, v.shape[0])\n"
   ]
  },
  {
   "cell_type": "code",
   "execution_count": null,
   "id": "a1de5bff",
   "metadata": {},
   "outputs": [],
   "source": [
    "developability = np.zeros(v.shape[0])\n",
    "for i in range(0, v.shape[0]):\n",
    "    dmat = nf[vf[ni[i] : ni[i + 1]]]\n",
    "    developability[i] = min(np.linalg.eigvals(np.dot(dmat.T, dmat)))\n",
    "pd = mp.plot(v, f, c=developability, shading={\"point_size\": 0.3})\n"
   ]
  },
  {
   "cell_type": "code",
   "execution_count": null,
   "id": "3d3c1690",
   "metadata": {},
   "outputs": [],
   "source": [
    "max(developability)\n"
   ]
  },
  {
   "cell_type": "markdown",
   "id": "251c06b2",
   "metadata": {},
   "source": [
    "## Gauss Thinning Implementation\n"
   ]
  },
  {
   "cell_type": "code",
   "execution_count": null,
   "id": "6614d8af",
   "metadata": {},
   "outputs": [],
   "source": [
    "def center(v):\n",
    "    v -= np.mean(v, axis=0)\n",
    "    v /= 2 * np.max(LA.norm(v, axis=1))\n",
    "\n",
    "\n",
    "def triangle_adjacency(f, nv):\n",
    "    vnbhs = [[] for _ in range(nv)]\n",
    "    nf = len(f)\n",
    "\n",
    "    for i in range(nf):\n",
    "        for j in range(3):\n",
    "            vnbhs[f[i, j]].append(i)\n",
    "\n",
    "    flags = [-1 for _ in range(nf)]\n",
    "    ret = [[] for _ in range(nf)]\n",
    "\n",
    "    for i in range(nf):\n",
    "        for j in range(3):\n",
    "            for k in vnbhs[f[i, j]]:\n",
    "                if k != i and flags[k] != i:\n",
    "                    ret[i].append(k)\n",
    "                    flags[k] = i\n",
    "\n",
    "    return ret\n",
    "\n",
    "\n",
    "def collectNeighbors(adj, V, N, r, nr):\n",
    "    stack = []\n",
    "    flag = [-1 for _ in range(len(V))]\n",
    "    result = [[] for _ in range(len(V))]\n",
    "    normal_cone_threshold = math.cos(nr * math.pi / 180)\n",
    "\n",
    "    for i in range(len(V)):\n",
    "        stack.append(i)\n",
    "        flag[i] = i\n",
    "\n",
    "        while len(stack) > 0:\n",
    "            id = stack.pop()\n",
    "\n",
    "            result[i].append(id)\n",
    "\n",
    "            for j in adj[id]:\n",
    "                if (\n",
    "                    flag[j] != i\n",
    "                    and LA.norm(V[i] - V[j]) < r\n",
    "                    and np.dot(N[i], N[j]) > normal_cone_threshold\n",
    "                ):\n",
    "                    stack.append(j)\n",
    "                    flag[j] = i\n",
    "\n",
    "    return result\n",
    "\n",
    "\n",
    "def fit_normals(nbh, N, cosine_threshold, sigma=1):\n",
    "    nv = len(nbh)\n",
    "    N2 = np.zeros((nv, 3))\n",
    "    angle_threshold = cosine_threshold * math.pi / 180\n",
    "\n",
    "    for i in range(nv):\n",
    "        nbi = nbh[i]\n",
    "\n",
    "        NN = np.zeros((len(nbi), 3))\n",
    "\n",
    "        for k in range(len(nbi)):\n",
    "            NN[k] = N[nbi[k]]\n",
    "\n",
    "        W = np.diag([-1 for _ in range(len(nbi))])\n",
    "\n",
    "        if sigma < 10:\n",
    "            for i in range(len(nbi)):\n",
    "                dot = np.dot(NN[0], NN[i])\n",
    "                if dot >= 1:\n",
    "                    W[i][i] = 1\n",
    "                elif dot < 0:\n",
    "                    W[i][i] = 0\n",
    "                else:\n",
    "                    W[i][i] = math.exp(\n",
    "                        -math.pow(math.acos(dot) / angle_threshold / sigma, 2)\n",
    "                    )\n",
    "\n",
    "        else:\n",
    "            W = np.diag([1 for _ in range(len(nbi))])\n",
    "\n",
    "        _, _, frame = LA.svd(np.dot(NN.T, np.dot(W, NN)))\n",
    "        left_cols = frame[:, 0:2]\n",
    "        N2[i] = np.dot(np.dot(left_cols, left_cols.T), N[i].T)\n",
    "        N2[i] = N2[i] / LA.norm(N2[i])\n",
    "\n",
    "    return N2\n",
    "\n",
    "\n",
    "def find_rotations(N0, N1):\n",
    "    n = len(N0)\n",
    "    rot = []\n",
    "\n",
    "    for i in range(n):\n",
    "        n1 = N0[i]\n",
    "        n2 = N1[i]\n",
    "        v = np.cross(n1, n2)\n",
    "        c = np.dot(n1, n2)\n",
    "\n",
    "        if c > -1 + 1e-8:\n",
    "            coeff = 1 / (1 + c)\n",
    "            v_x = np.array([[0, -v[2], v[1]], [v[2], 0, -v[0]], [-v[1], v[0], 0]])\n",
    "            rot.append(np.eye(3) + v_x + coeff * np.dot(v_x, v_x))\n",
    "        else:\n",
    "            rot.append(-np.eye(3))\n",
    "\n",
    "    return rot\n",
    "\n",
    "\n",
    "def assemble_RHS(C, V, F, R):\n",
    "    rhs = np.zeros((len(V), 3))\n",
    "\n",
    "    for i in range(len(F)):\n",
    "        for j in range(3):\n",
    "            v0 = F[i][(j + 1) % 3]\n",
    "            v1 = F[i][(j + 2) % 3]\n",
    "\n",
    "            b = C[i][j] * np.dot(R[i], (V[v0] - V[v1]).T)\n",
    "            rhs[v0] -= b.T\n",
    "            rhs[v1] += b.T\n",
    "\n",
    "    return rhs\n",
    "\n",
    "\n",
    "def gauss_thinning(\n",
    "    V,\n",
    "    F,\n",
    "    num_iterations=100,\n",
    "    min_cone_angle=2.5,\n",
    "    smooth=1e-5,\n",
    "    start_angle=25,\n",
    "    radius=0.1,\n",
    "    sigma=2,\n",
    "    render=False,\n",
    "):\n",
    "    cone_angle = start_angle\n",
    "    eps = 1e-3\n",
    "\n",
    "    nv = len(V)\n",
    "    center(V)\n",
    "\n",
    "    TT = triangle_adjacency(F, nv)\n",
    "    C = igl.cotmatrix_entries(V, F)\n",
    "    L = igl.cotmatrix(V, F)\n",
    "    M = igl.massmatrix(V, F, igl.MASSMATRIX_TYPE_BARYCENTRIC).todense()\n",
    "\n",
    "    if smooth:\n",
    "        A = -L + smooth * np.dot(L.T, L) + eps * M\n",
    "    else:\n",
    "        A = -L + eps * M\n",
    "\n",
    "    V_dash = np.copy(V)\n",
    "\n",
    "    if render:\n",
    "        plot = mp.Viewer({})\n",
    "        mesh = plot.add_mesh(V_dash, F, c=V_dash[:, 0])\n",
    "        display(plot._renderer)  # type: ignore\n",
    "\n",
    "    for i in range(num_iterations):\n",
    "        N = igl.per_face_normals(V_dash, F, np.array([1, 0, 0], dtype=float))\n",
    "        B = igl.barycenter(V_dash, F)\n",
    "\n",
    "        nbhs = collectNeighbors(TT, B, N, radius, cone_angle)\n",
    "        if cone_angle > min_cone_angle:\n",
    "            cone_angle *= 0.95\n",
    "\n",
    "        N2 = fit_normals(nbhs, N, cone_angle, sigma)\n",
    "        rot = find_rotations(N, N2)\n",
    "        b = assemble_RHS(C, V_dash, F, rot)\n",
    "\n",
    "        V_dash = np.asarray(LA.solve(A, eps * np.dot(M, V_dash) - b))\n",
    "\n",
    "        if render:\n",
    "            plot.update_object(oid=mesh, vertices=V_dash, colors=V_dash[:, 0], faces=F)\n",
    "\n",
    "        print(f\"Finished iteration {i}.\")\n",
    "\n",
    "    return V_dash\n"
   ]
  },
  {
   "cell_type": "code",
   "execution_count": null,
   "id": "ab906d53",
   "metadata": {},
   "outputs": [],
   "source": [
    "v, f = igl.read_triangle_mesh(\"examples/boat/input.off\")\n",
    "gauss_thinning(v, f, num_iterations=300, render=True)\n"
   ]
  },
  {
   "cell_type": "code",
   "execution_count": null,
   "id": "82cb55eb",
   "metadata": {},
   "outputs": [],
   "source": []
  }
 ],
 "metadata": {
  "interpreter": {
   "hash": "6ef3f707e961dbd52e805eba6bdbd76659286394f6ed3bd63481a77934db8e18"
  },
  "kernelspec": {
   "display_name": "dev-surf",
   "language": "python",
   "name": "python3"
  },
  "language_info": {
   "codemirror_mode": {
    "name": "ipython",
    "version": 3
   },
   "file_extension": ".py",
   "mimetype": "text/x-python",
   "name": "python",
   "nbconvert_exporter": "python",
   "pygments_lexer": "ipython3",
   "version": "3.9.7"
  }
 },
 "nbformat": 4,
 "nbformat_minor": 5
}
