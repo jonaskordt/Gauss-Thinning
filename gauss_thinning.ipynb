{
 "cells": [
  {
   "cell_type": "markdown",
   "id": "96a4b29b-4222-455c-91cc-7d78c0166f70",
   "metadata": {},
   "source": [
    "# Gauss Thinning\n"
   ]
  },
  {
   "cell_type": "code",
   "execution_count": null,
   "id": "0ffcaae1",
   "metadata": {},
   "outputs": [],
   "source": [
    "import igl\n",
    "import meshplot as mp\n",
    "import numpy as np\n",
    "from gauss_thinning import *\n",
    "from visualizations import *\n"
   ]
  },
  {
   "cell_type": "markdown",
   "id": "477bad2f",
   "metadata": {
    "tags": []
   },
   "source": [
    "## Load and Plot Data\n"
   ]
  },
  {
   "cell_type": "code",
   "execution_count": null,
   "id": "a53708bb",
   "metadata": {},
   "outputs": [],
   "source": [
    "# v, f = igl.read_triangle_mesh(\"examples/einstein/input.off\")\n",
    "# v, f = igl.read_triangle_mesh(\"examples/bumpy/input.off\")\n",
    "# v, f = igl.read_triangle_mesh(\"examples/bunny/input.off\")\n",
    "v, f = igl.read_triangle_mesh(\"examples/face/input.off\")\n"
   ]
  },
  {
   "cell_type": "markdown",
   "id": "1037cb71",
   "metadata": {},
   "source": [
    "## Visualizing Surfaces and Pointclouds\n"
   ]
  },
  {
   "cell_type": "code",
   "execution_count": null,
   "id": "46bfc13f",
   "metadata": {},
   "outputs": [],
   "source": [
    "mp.plot(v, f, c=v[:, 0])\n",
    "mp.plot(v, c=v[:, 0], shading={\"point_size\": 0.3})\n"
   ]
  },
  {
   "cell_type": "markdown",
   "id": "665082e3",
   "metadata": {
    "tags": []
   },
   "source": [
    "## Gauss map of the input mesh\n"
   ]
  },
  {
   "cell_type": "code",
   "execution_count": null,
   "id": "15dab1e7",
   "metadata": {},
   "outputs": [],
   "source": [
    "# Calculating per face normals\n",
    "nf = igl.per_face_normals(v, f, np.array([0.0, 0.0, 0.0]))\n",
    "# Plotting face normals\n",
    "mp.plot(v, f, c=nf)\n"
   ]
  },
  {
   "cell_type": "code",
   "execution_count": null,
   "id": "94f90c7a",
   "metadata": {},
   "outputs": [],
   "source": [
    "# Calculating per vertex normals\n",
    "nv = igl.per_vertex_normals(v, f)\n",
    "avg = igl.avg_edge_length(v, f)\n",
    "# Plotting vertex normals as lines\n",
    "pv = mp.plot(v, f, c=nv)\n",
    "pv.add_lines(v, v + nv * avg)\n"
   ]
  },
  {
   "cell_type": "code",
   "execution_count": null,
   "id": "9201ff09",
   "metadata": {},
   "outputs": [],
   "source": [
    "# Calculating the principal curvature, mean curvature and gassian curvature.\n",
    "v1, v2, k1, k2 = igl.principal_curvature(v, f)\n",
    "mean_curv = 0.5 * (k1 + k2)\n",
    "gaussian_curv = k1 * k2\n",
    "avg = igl.avg_edge_length(v, f)\n",
    "\n",
    "# Plotting gaussian curvature + directions\n",
    "pgc = mp.plot(v, f, c=gaussian_curv)\n",
    "pgc.add_lines(v + v1 * avg / 3, v - v1 * avg / 3, shading={\"line_color\": \"red\"})\n",
    "pgc.add_lines(v + v2 * avg / 3, v - v2 * avg / 3, shading={\"line_color\": \"green\"})\n"
   ]
  },
  {
   "cell_type": "code",
   "execution_count": null,
   "id": "d5bc44d1",
   "metadata": {},
   "outputs": [],
   "source": [
    "# Plotting the gauss map\n",
    "vs, fs = igl.read_triangle_mesh(\"examples/unit_sphere.obj\")\n",
    "vs = vs * 0.95\n",
    "pgm = mp.plot(vs, fs, shading={\"flat\": False})\n",
    "pgm.add_points(nf, shading={\"point_size\": 0.2})\n",
    "ev, fe, ef = igl.edge_topology(v, f)\n",
    "ef = ef[np.all(ef != -1, axis=1)]\n",
    "pgm.add_lines(nf[ef[:, 0]], nf[ef[:, 1]], shading={\"line_color\": \"red\"})\n"
   ]
  },
  {
   "cell_type": "markdown",
   "id": "47964112",
   "metadata": {},
   "source": [
    "## Visualizing the developability on the surface\n"
   ]
  },
  {
   "cell_type": "code",
   "execution_count": null,
   "id": "a1de5bff",
   "metadata": {},
   "outputs": [],
   "source": [
    "pd = mp.plot(v, f, c=developability_colors(v, f))\n"
   ]
  },
  {
   "cell_type": "markdown",
   "id": "2518139b",
   "metadata": {},
   "source": [
    "## Gauss Thinning\n"
   ]
  },
  {
   "cell_type": "code",
   "execution_count": null,
   "id": "ab906d53",
   "metadata": {},
   "outputs": [],
   "source": [
    "v, f = igl.read_triangle_mesh(\"examples/bunny_small/input.off\")\n",
    "mp.plot(v, f, c=v[:, 0])\n",
    "v_dash, _ = gauss_thinning(v, f, num_iterations=100, min_cone_angle=5, render=True)\n"
   ]
  },
  {
   "cell_type": "code",
   "execution_count": null,
   "id": "60b490df",
   "metadata": {},
   "outputs": [],
   "source": [
    "pd = mp.plot(v, f, c=developability_colors(v, f))\n",
    "pd = mp.plot(v_dash, f, c=developability_colors(v_dash, f))\n"
   ]
  },
  {
   "cell_type": "code",
   "execution_count": null,
   "id": "aae79ddf",
   "metadata": {},
   "outputs": [],
   "source": [
    "epsilon = 1.5  # degrees\n",
    "\n",
    "pd = mp.plot(v, f, c=angle_sum_colors(v, f, epsilon=epsilon))\n",
    "pd = mp.plot(v_dash, f, c=angle_sum_colors(v_dash, f, epsilon=epsilon))\n"
   ]
  },
  {
   "cell_type": "markdown",
   "id": "510f5794",
   "metadata": {},
   "source": [
    "## Gauss Thinning with Gauss Image\n"
   ]
  },
  {
   "cell_type": "code",
   "execution_count": null,
   "id": "c46ffd0e",
   "metadata": {},
   "outputs": [],
   "source": [
    "v, f = igl.read_triangle_mesh(\"examples/bunny_small/input.off\")\n",
    "plot = mp.plot(v, f, c=v[:, 0], return_plot=True)\n",
    "\n",
    "gauss_offset = np.array([1, 0, 0])\n",
    "gauss_scale = 0.4\n",
    "\n",
    "n = igl.per_face_normals(v, f, np.array([0.0, 0.0, 0.0]))\n",
    "vs, fs = igl.read_triangle_mesh(\"examples/unit_sphere.obj\")\n",
    "vs = vs * gauss_scale * 0.95 + gauss_offset\n",
    "plot.add_mesh(vs, fs, shading={\"flat\": False})\n",
    "plot.add_points(n * gauss_scale + gauss_offset, shading={\"point_size\": 0.1})\n",
    "_, _, ef = igl.edge_topology(v, f)\n",
    "ef = ef[np.all(ef != -1, axis=1)]\n",
    "plot.add_lines(\n",
    "    n[ef[:, 0]] * gauss_scale + gauss_offset,\n",
    "    n[ef[:, 1]] * gauss_scale + gauss_offset,\n",
    "    shading={\"line_color\": \"red\"},\n",
    ")\n",
    "\n",
    "v_dash, plot_dash = gauss_thinning(\n",
    "    v, f, num_iterations=100, min_cone_angle=5, render=True\n",
    ")\n",
    "\n",
    "n = igl.per_face_normals(v_dash, f, np.array([0.0, 0.0, 0.0]))\n",
    "plot_dash.add_mesh(vs, fs, shading={\"flat\": False})\n",
    "plot_dash.add_points(n * gauss_scale + gauss_offset, shading={\"point_size\": 0.1})\n",
    "_, _, ef = igl.edge_topology(v, f)\n",
    "ef = ef[np.all(ef != -1, axis=1)]\n",
    "plot_dash.add_lines(\n",
    "    n[ef[:, 0]] * gauss_scale + gauss_offset,\n",
    "    n[ef[:, 1]] * gauss_scale + gauss_offset,\n",
    "    shading={\"line_color\": \"red\"},\n",
    ")\n"
   ]
  },
  {
   "cell_type": "code",
   "execution_count": null,
   "id": "8697d697",
   "metadata": {},
   "outputs": [],
   "source": []
  }
 ],
 "metadata": {
  "interpreter": {
   "hash": "6ef3f707e961dbd52e805eba6bdbd76659286394f6ed3bd63481a77934db8e18"
  },
  "kernelspec": {
   "display_name": "dev-surf",
   "language": "python",
   "name": "python3"
  },
  "language_info": {
   "codemirror_mode": {
    "name": "ipython",
    "version": 3
   },
   "file_extension": ".py",
   "mimetype": "text/x-python",
   "name": "python",
   "nbconvert_exporter": "python",
   "pygments_lexer": "ipython3",
   "version": "3.9.7"
  }
 },
 "nbformat": 4,
 "nbformat_minor": 5
}
