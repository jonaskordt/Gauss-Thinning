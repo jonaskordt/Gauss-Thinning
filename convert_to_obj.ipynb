{
 "cells": [
  {
   "cell_type": "code",
   "execution_count": 1,
   "metadata": {},
   "outputs": [],
   "source": [
    "import igl\n",
    "import os\n"
   ]
  },
  {
   "cell_type": "code",
   "execution_count": 6,
   "metadata": {},
   "outputs": [],
   "source": [
    "cwd = os.getcwd()\n",
    "dir = os.path.join(cwd, \"examples\")\n",
    "for folder in os.listdir(dir):\n",
    "    if \".\" in folder:\n",
    "        continue\n",
    "    path = os.path.join(dir, folder)\n",
    "    input = os.path.join(path, \"input.off\")\n",
    "\n",
    "    v, f = igl.read_triangle_mesh(input)\n",
    "\n",
    "    igl.write_obj(os.path.join(path, \"input.obj\"), v, f)\n"
   ]
  }
 ],
 "metadata": {
  "interpreter": {
   "hash": "6ef3f707e961dbd52e805eba6bdbd76659286394f6ed3bd63481a77934db8e18"
  },
  "kernelspec": {
   "display_name": "Python 3.9.7 ('dev-surf')",
   "language": "python",
   "name": "python3"
  },
  "language_info": {
   "codemirror_mode": {
    "name": "ipython",
    "version": 3
   },
   "file_extension": ".py",
   "mimetype": "text/x-python",
   "name": "python",
   "nbconvert_exporter": "python",
   "pygments_lexer": "ipython3",
   "version": "3.9.7"
  },
  "orig_nbformat": 4
 },
 "nbformat": 4,
 "nbformat_minor": 2
}
