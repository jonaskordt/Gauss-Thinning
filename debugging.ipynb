{
 "cells": [
  {
   "cell_type": "markdown",
   "id": "96a4b29b-4222-455c-91cc-7d78c0166f70",
   "metadata": {},
   "source": [
    "# Debugging\n"
   ]
  },
  {
   "cell_type": "code",
   "execution_count": 3,
   "id": "0ffcaae1",
   "metadata": {},
   "outputs": [],
   "source": [
    "import igl\n",
    "import meshplot as mp\n",
    "import numpy as np\n",
    "from gauss_thinning import center, triangle_adjacency, collectNeighbors, fit_normals\n"
   ]
  },
  {
   "cell_type": "markdown",
   "id": "0e3ee40e",
   "metadata": {},
   "source": [
    "## Triangle Adjacency\n"
   ]
  },
  {
   "cell_type": "code",
   "execution_count": null,
   "id": "62e8e493",
   "metadata": {},
   "outputs": [],
   "source": [
    "v, f = igl.read_triangle_mesh(\"examples/boat/input.off\")\n",
    "\n",
    "center(v)\n",
    "\n",
    "TT = triangle_adjacency(f, len(v))\n",
    "\n",
    "face_index = 90\n",
    "\n",
    "mp.plot(\n",
    "    v,\n",
    "    f,\n",
    "    c=np.array(\n",
    "        [\n",
    "            0 if i == face_index else 0.5 if i in TT[face_index] else 1\n",
    "            for i in range(len(f))\n",
    "        ]\n",
    "    ),\n",
    ")\n"
   ]
  },
  {
   "cell_type": "markdown",
   "id": "a2902e8a",
   "metadata": {},
   "source": [
    "## Collect Neighbors"
   ]
  },
  {
   "cell_type": "code",
   "execution_count": null,
   "id": "82cb55eb",
   "metadata": {},
   "outputs": [],
   "source": [
    "v, f = igl.read_triangle_mesh(\"examples/boat/input.off\")\n",
    "\n",
    "center(v)\n",
    "\n",
    "radius = 0.1\n",
    "cone_angle = 25\n",
    "\n",
    "TT = triangle_adjacency(f, len(v))\n",
    "\n",
    "N = igl.per_face_normals(v, f, np.array([1, 0, 0], dtype=float))\n",
    "B = igl.barycenter(v, f)\n",
    "\n",
    "nbhs = collectNeighbors(TT, B, N, radius, cone_angle)\n",
    "\n",
    "face_index = 90\n",
    "\n",
    "mp.plot(\n",
    "    v,\n",
    "    f,\n",
    "    c=np.array(\n",
    "        [\n",
    "            0 if i == face_index else 0.5 if i in nbhs[face_index] else 1\n",
    "            for i in range(len(f))\n",
    "        ]\n",
    "    ),\n",
    ")\n"
   ]
  },
  {
   "cell_type": "markdown",
   "id": "e6181c51",
   "metadata": {},
   "source": [
    "## Fit Normals"
   ]
  },
  {
   "cell_type": "code",
   "execution_count": null,
   "id": "ef584e1f",
   "metadata": {},
   "outputs": [],
   "source": [
    "v, f = igl.read_triangle_mesh(\"examples/boat/input.off\")\n",
    "\n",
    "face_index = 10\n",
    "\n",
    "center(v)\n",
    "\n",
    "radius = 0.1\n",
    "cone_angle = 25\n",
    "sigma = 2\n",
    "\n",
    "TT = triangle_adjacency(f, len(v))\n",
    "\n",
    "N = igl.per_face_normals(v, f, np.array([1, 0, 0], dtype=float))\n",
    "B = igl.barycenter(v, f)\n",
    "\n",
    "nbhs = collectNeighbors(TT, B, N, radius, cone_angle)\n",
    "\n",
    "\n",
    "pv = mp.plot(\n",
    "    v,\n",
    "    f,\n",
    "    c=np.array(\n",
    "        [\n",
    "            0 if i == face_index else 0.5 if i in nbhs[face_index] else 1\n",
    "            for i in range(len(f))\n",
    "        ]\n",
    "    ),\n",
    ")\n",
    "\n",
    "N2 = fit_normals(nbhs, N, cone_angle, sigma)\n",
    "\n",
    "avg = igl.avg_edge_length(v, f)\n",
    "pv.add_lines(\n",
    "    np.array([B[face_index]]),\n",
    "    np.array([B[face_index] + N[face_index] * avg]),\n",
    "    shading={\"line_color\": \"red\"},\n",
    ")\n",
    "pv.add_lines(\n",
    "    np.array([B[face_index]]),\n",
    "    np.array([B[face_index] + N2[face_index] * avg]),\n",
    "    shading={\"line_color\": \"green\"},\n",
    ")\n"
   ]
  },
  {
   "cell_type": "code",
   "execution_count": null,
   "id": "fe582258",
   "metadata": {},
   "outputs": [],
   "source": []
  }
 ],
 "metadata": {
  "interpreter": {
   "hash": "6ef3f707e961dbd52e805eba6bdbd76659286394f6ed3bd63481a77934db8e18"
  },
  "kernelspec": {
   "display_name": "dev-surf",
   "language": "python",
   "name": "python3"
  },
  "language_info": {
   "codemirror_mode": {
    "name": "ipython",
    "version": 3
   },
   "file_extension": ".py",
   "mimetype": "text/x-python",
   "name": "python",
   "nbconvert_exporter": "python",
   "pygments_lexer": "ipython3",
   "version": "3.9.7"
  }
 },
 "nbformat": 4,
 "nbformat_minor": 5
}
